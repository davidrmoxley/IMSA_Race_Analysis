{
 "cells": [
  {
   "cell_type": "code",
   "execution_count": 1,
   "metadata": {},
   "outputs": [],
   "source": [
    "## Explore IMSA Time Tables"
   ]
  },
  {
   "cell_type": "code",
   "execution_count": 13,
   "metadata": {},
   "outputs": [],
   "source": [
    "import pandas as pd\n",
    "import matplotlib as plt\n",
    "import seaborn as sns\n",
    "sns.set()"
   ]
  },
  {
   "cell_type": "code",
   "execution_count": 64,
   "metadata": {},
   "outputs": [],
   "source": [
    "#get data\n",
    "\n",
    "github_url = 'https://raw.githubusercontent.com/drmoxley2/IMSA_Race_Analysis/master/2019_Limerock_TimeCards.csv'\n",
    "\n",
    "df = pd.read_csv(github_url, sep=';', delimiter=None)\n",
    "\n",
    "df.columns = df.columns.str.replace(' ', '')\n"
   ]
  },
  {
   "cell_type": "code",
   "execution_count": 70,
   "metadata": {},
   "outputs": [],
   "source": [
    "def udf_get_seconds(str_time):\n",
    "    '''\n",
    "    Input: string time in H:M:S.MS format\n",
    "    Output: time in seconds as float\n",
    "    '''\n",
    "\n",
    "    l_time = str_time.split(':')\n",
    "\n",
    "    if len(l_time) == 2:\n",
    "        m,s = l_time\n",
    "        time = float(m) * 60 + float(s)\n",
    "    \n",
    "    elif len(l_time) == 3:\n",
    "        h,m,s = l_time\n",
    "        time = float(h) * 3600 + float(m) * 60 + float(s)\n",
    "    \n",
    "    return time\n",
    "\n"
   ]
  },
  {
   "cell_type": "code",
   "execution_count": null,
   "metadata": {},
   "outputs": [],
   "source": []
  }
 ],
 "metadata": {
  "kernelspec": {
   "display_name": "Python 3",
   "language": "python",
   "name": "python3"
  },
  "language_info": {
   "codemirror_mode": {
    "name": "ipython",
    "version": 3
   },
   "file_extension": ".py",
   "mimetype": "text/x-python",
   "name": "python",
   "nbconvert_exporter": "python",
   "pygments_lexer": "ipython3",
   "version": "3.7.3"
  }
 },
 "nbformat": 4,
 "nbformat_minor": 2
}
